{
 "cells": [
  {
   "cell_type": "code",
   "execution_count": 475,
   "metadata": {},
   "outputs": [],
   "source": [
    "import numpy as np\n",
    "from sklearn.base import BaseEstimator, ClassifierMixin\n",
    "import arff\n",
    "import numpy.linalg as la\n",
    "from sklearn.model_selection import train_test_split"
   ]
  },
  {
   "cell_type": "code",
   "execution_count": 571,
   "metadata": {},
   "outputs": [],
   "source": [
    "np.set_printoptions(precision=6)\n",
    "np.set_printoptions(suppress=True)"
   ]
  },
  {
   "cell_type": "code",
   "execution_count": 497,
   "metadata": {},
   "outputs": [],
   "source": [
    "def normalize(X, min_val=None, max_val=None):\n",
    "    if min_val is None: min_val = np.nanmin(X, axis=0)\n",
    "    if max_val is None: max_val = np.nanmax(X, axis=0)\n",
    "    return (X - min_val) / (max_val - min_val)\n",
    "\n",
    "class KNNClassifier(BaseEstimator,ClassifierMixin):\n",
    "    def __init__(self, k, output_type=\"nominal\", input_type=0, weight_type='inverse_distance', normalize=True):\n",
    "        \"\"\"\n",
    "        Args:\n",
    "            columntype for each column tells you if continues[real] or if nominal.\n",
    "            weight_type: inverse_distance voting or if non distance weighting. Options = [\"no_weight\",\"inverse_distance\"]\n",
    "        \"\"\"\n",
    "        self.output_type = output_type\n",
    "        self.input_type = input_type\n",
    "        if type(input_type) == np.ndarray:\n",
    "            self.num_noms = sum(input_type)\n",
    "        self.weight_type = weight_type\n",
    "        self.normalize = normalize\n",
    "        self.k = k\n",
    "        \n",
    "    def fit(self, X, y):\n",
    "        \"\"\" Fit the data; run the algorithm (for this lab really just saves the data :D)\n",
    "        Args:\n",
    "            X (array-like): A 2D numpy array with the training data, excluding targets\n",
    "            y (array-like): A 2D numpy array with the training targets\n",
    "        Returns:\n",
    "            self: this allows this to be chained, e.g. model.fit(X,y).predict(X_test)\n",
    "        \"\"\"\n",
    "        if type(self.input_type) == np.ndarray:\n",
    "            self.X_nom = X.T[self.input_type==1].T\n",
    "            X_cont = X.T[self.input_type==0].T\n",
    "            if self.normalize:\n",
    "                self.min_val = np.nanmin(X_cont, axis=0)\n",
    "                self.max_val = np.nanmax(X_cont, axis=0)\n",
    "                self.X_cont = normalize(X_cont)\n",
    "        else:\n",
    "            if self.normalize:\n",
    "                self.min_val = np.nanmin(X, axis=0)\n",
    "                self.max_val = np.nanmax(X, axis=0)\n",
    "                self.X = normalize(X)\n",
    "            else:\n",
    "                self.X = X\n",
    "        \n",
    "        if self.output_type == \"nominal\":\n",
    "            self.y = y.flatten().astype(int)\n",
    "            self.num_classes = np.max(self.y) + 1\n",
    "        else:\n",
    "            self.y = y.flatten()\n",
    "        return self\n",
    "    \n",
    "    def predict(self, X):\n",
    "        if type(self.input_type) == np.ndarray and self.normalize:\n",
    "            X_nom = X.T[self.input_type==1].T\n",
    "            X_cont = X.T[self.input_type==0].T\n",
    "            X_cont = normalize(X_cont, min_val=self.min_val, max_val=self.max_val)\n",
    "            X = np.hstack([X_nom, X_cont])\n",
    "        elif self.normalize:\n",
    "            X = normalize(X, min_val=self.min_val, max_val=self.max_val)\n",
    "        \n",
    "        if self.output_type == \"nominal\":\n",
    "            y_hat = self.predict_nominal(X)\n",
    "        else:\n",
    "            y_hat = self.predict_regress(X)\n",
    "        return y_hat\n",
    "    \n",
    "    def topk(self, x):\n",
    "        if type(self.input_type) == np.ndarray:\n",
    "            x_nom = x[:self.num_noms]\n",
    "            x_cont = x[self.num_noms:]\n",
    "            nom_diff = np.sum(self.X_nom != x_nom, axis=1)\n",
    "            cont_diff = self.X_cont - x_cont\n",
    "            cont_diff[np.isnan(cont_diff)] = 1\n",
    "            norms = np.sqrt(np.sum(cont_diff**2, axis=1) + nom_diff)\n",
    "        else:\n",
    "            norms = la.norm(self.X - x, axis=1)\n",
    "        Ny = np.vstack([norms, self.y]).T\n",
    "        sort_arg = np.argsort(norms)\n",
    "        topk = Ny[sort_arg][:self.k]\n",
    "        return topk\n",
    "    \n",
    "    def predict_nominal(self, X):\n",
    "        \"\"\" Predict all classes for a dataset X\n",
    "        Args:\n",
    "            X (array-like): A 2D numpy array with the training data, excluding targets\n",
    "        Returns:\n",
    "            array, shape (n_samples,)\n",
    "                Predicted target values per element in X.\n",
    "        \"\"\"\n",
    "        y_hat = []\n",
    "        for x in X:\n",
    "            topk = self.topk(x)\n",
    "            if self.weight_type == \"no_weight\":\n",
    "                (values,counts) = np.unique(topk[:, -1].astype(int),return_counts=True)\n",
    "                ind = np.argmax(counts)\n",
    "                y_hat.append(values[ind])\n",
    "            else:\n",
    "                weights = topk[:, 0]**(-2)\n",
    "                best_weight = 0\n",
    "                best_ind = 0\n",
    "                for i in range(self.num_classes):\n",
    "                    curr_weight = np.sum(weights[topk[:, -1] == i])\n",
    "                    if curr_weight > best_weight:\n",
    "                        best_weight = curr_weight\n",
    "                        best_ind = i\n",
    "                y_hat.append(best_ind)\n",
    "        return np.array(y_hat).reshape(-1, 1)\n",
    "    \n",
    "    def predict_regress(self, X):\n",
    "        y_hat = []\n",
    "        for x in X:\n",
    "            topk = self.topk(x)\n",
    "            if self.weight_type == \"no_weight\":\n",
    "                y_hat.append(np.mean(topk[:, -1]))\n",
    "            else:\n",
    "                weights = topk[:, 0]**(-2)\n",
    "                val = np.sum(weights*topk[:, -1])/np.sum(weights)\n",
    "                y_hat.append(val)\n",
    "        return np.array(y_hat).reshape(-1, 1)\n",
    "\n",
    "    #Returns the Mean score given input data and labels\n",
    "    def score(self, X, y):\n",
    "        \"\"\" Return accuracy of model on a given dataset. Must implement own score function.\n",
    "        Args:\n",
    "                X (array-like): A 2D numpy array with data, excluding targets\n",
    "                y (array-like): A 2D numpy array with targets\n",
    "        Returns:\n",
    "                score : float\n",
    "                        Mean accuracy of self.predict(X) wrt. y.\n",
    "        \"\"\"\n",
    "        y_hat = self.predict(X)\n",
    "        if self.output_type == \"nominal\":\n",
    "            return sum(y_hat==y) / len(y)\n",
    "        else:\n",
    "            return np.sum((y_hat - y)**2) / len(y)"
   ]
  },
  {
   "cell_type": "markdown",
   "metadata": {},
   "source": [
    "# Debug"
   ]
  },
  {
   "cell_type": "code",
   "execution_count": 463,
   "metadata": {},
   "outputs": [
    {
     "data": {
      "text/plain": [
       "array([0.93571429])"
      ]
     },
     "execution_count": 463,
     "metadata": {},
     "output_type": "execute_result"
    }
   ],
   "source": [
    "seismic_train = arff.Arff(arff=r'seismic-bumps_train.arff', label_count=1)\n",
    "seismic_test = arff.Arff(arff=r'seismic-bumps_test.arff', label_count=1)\n",
    "X_train = seismic_train[:, :-1]\n",
    "y_train = seismic_train[:, -1].reshape(-1, 1)\n",
    "X_test = seismic_test[:, :-1]\n",
    "y_test = seismic_test[:, -1].reshape(-1, 1)\n",
    "#knn = KNNClassifier(3, weight_type=\"no_weight\")\n",
    "knn = KNNClassifier(3, normalize=False)\n",
    "knn.fit(X_train, y_train)\n",
    "y_hat = knn.predict(X_test)\n",
    "score = knn.score(X_test, y_test)\n",
    "score"
   ]
  },
  {
   "cell_type": "markdown",
   "metadata": {},
   "source": [
    "# Evaluation"
   ]
  },
  {
   "cell_type": "code",
   "execution_count": 131,
   "metadata": {},
   "outputs": [],
   "source": [
    "diabetes_train = arff.Arff(arff=r'diabetes.arff', label_count=1)\n",
    "diabetes_test = arff.Arff(arff=r'diabetes_test.arff', label_count=1)\n",
    "X_train = diabetes_train[:, :-1]\n",
    "y_train = diabetes_train[:, -1].reshape(-1, 1)\n",
    "X_test = diabetes_test[:, :-1]\n",
    "y_test = diabetes_test[:, -1].reshape(-1, 1)\n",
    "#knn = KNNClassifier(3, weight_type=\"no_weight\")\n",
    "knn = KNNClassifier(3)\n",
    "knn.fit(X_train, y_train)\n",
    "y_hat = knn.predict_nominal(X_test)"
   ]
  },
  {
   "cell_type": "code",
   "execution_count": 133,
   "metadata": {},
   "outputs": [
    {
     "data": {
      "text/plain": [
       "array([0.86588542])"
      ]
     },
     "execution_count": 133,
     "metadata": {},
     "output_type": "execute_result"
    }
   ],
   "source": [
    "sum(y_test == y_hat)/len(y_test)"
   ]
  },
  {
   "cell_type": "code",
   "execution_count": 136,
   "metadata": {},
   "outputs": [],
   "source": [
    "np.savetxt(\"diabetes_prediction.csv\", y_hat.astype(int), delimiter=',')"
   ]
  },
  {
   "cell_type": "markdown",
   "metadata": {},
   "source": [
    "# Telescope"
   ]
  },
  {
   "cell_type": "markdown",
   "metadata": {},
   "source": [
    "## Raw"
   ]
  },
  {
   "cell_type": "code",
   "execution_count": 466,
   "metadata": {},
   "outputs": [],
   "source": [
    "telescope_train = arff.Arff(arff=r'telescope_train.arff', label_count=1)\n",
    "telescope_test = arff.Arff(arff=r'telescope_test.arff', label_count=1)\n",
    "X_train = telescope_train[:, :-1]\n",
    "y_train = telescope_train[:, -1].reshape(-1, 1)\n",
    "X_test = telescope_test[:, :-1]\n",
    "y_test = telescope_test[:, -1].reshape(-1, 1)\n",
    "knn = KNNClassifier(3, weight_type=\"no_weight\", normalize=False)\n",
    "#knn = KNNClassifier(3)\n",
    "knn.fit(X_train, y_train)\n",
    "score = knn.score(X_test, y_test)"
   ]
  },
  {
   "cell_type": "code",
   "execution_count": 467,
   "metadata": {},
   "outputs": [
    {
     "data": {
      "text/plain": [
       "array([0.80828083])"
      ]
     },
     "execution_count": 467,
     "metadata": {},
     "output_type": "execute_result"
    }
   ],
   "source": [
    "score"
   ]
  },
  {
   "cell_type": "markdown",
   "metadata": {},
   "source": [
    "## Normalized"
   ]
  },
  {
   "cell_type": "code",
   "execution_count": 469,
   "metadata": {},
   "outputs": [],
   "source": [
    "knn = KNNClassifier(3, weight_type=\"no_weight\", normalize=True)\n",
    "knn.fit(X_train, y_train)\n",
    "score = knn.score(X_test, y_test)"
   ]
  },
  {
   "cell_type": "code",
   "execution_count": 470,
   "metadata": {},
   "outputs": [
    {
     "data": {
      "text/plain": [
       "array([0.83063306])"
      ]
     },
     "execution_count": 470,
     "metadata": {},
     "output_type": "execute_result"
    }
   ],
   "source": [
    "score"
   ]
  },
  {
   "cell_type": "code",
   "execution_count": 222,
   "metadata": {},
   "outputs": [
    {
     "name": "stdout",
     "output_type": "stream",
     "text": [
      "1 [0.81143114]\n",
      "3 [0.83063306]\n",
      "5 [0.84443444]\n",
      "7 [0.84383438]\n",
      "9 [0.84458446]\n",
      "11 [0.84623462]\n",
      "13 [0.84653465]\n",
      "15 [0.84293429]\n"
     ]
    }
   ],
   "source": [
    "for i in range(1,16,2):\n",
    "    knn = KNNClassifier(i, weight_type=\"no_weight\")\n",
    "    knn.fit(X_train, y_train)\n",
    "    score = knn.score(X_test, y_test)\n",
    "    print(i, score)"
   ]
  },
  {
   "cell_type": "markdown",
   "metadata": {},
   "source": [
    "## Distance weighting"
   ]
  },
  {
   "cell_type": "code",
   "execution_count": 231,
   "metadata": {},
   "outputs": [
    {
     "name": "stderr",
     "output_type": "stream",
     "text": [
      "/Users/seong-euncho/anaconda3/lib/python3.6/site-packages/ipykernel_launcher.py:55: RuntimeWarning: divide by zero encountered in power\n"
     ]
    },
    {
     "name": "stdout",
     "output_type": "stream",
     "text": [
      "1 [0.81143114]\n",
      "3 [0.83108311]\n",
      "5 [0.84563456]\n",
      "7 [0.84908491]\n",
      "9 [0.84848485]\n",
      "11 [0.85283528]\n",
      "13 [0.85163516]\n",
      "15 [0.85073507]\n"
     ]
    }
   ],
   "source": [
    "for i in range(1,16,2):\n",
    "    knn = KNNClassifier(i, weight_type=\"inverse_distance\")\n",
    "    knn.fit(Xn_train, y_train)\n",
    "    score = knn.score(Xn_test, y_test)\n",
    "    print(i, score)"
   ]
  },
  {
   "cell_type": "markdown",
   "metadata": {},
   "source": [
    "# Housing"
   ]
  },
  {
   "cell_type": "code",
   "execution_count": 471,
   "metadata": {},
   "outputs": [],
   "source": [
    "housing_train = arff.Arff(arff=r'housing_train.arff', label_count=1)\n",
    "housing_test = arff.Arff(arff=r'housing_test.arff', label_count=1)\n",
    "X_train = housing_train[:, :-1]\n",
    "y_train = housing_train[:, -1].reshape(-1, 1)\n",
    "X_test = housing_test[:, :-1]\n",
    "y_test = housing_test[:, -1].reshape(-1, 1)\n",
    "knn = KNNClassifier(3, output_type=\"continuous\", weight_type=\"no_weight\")\n",
    "knn.fit(X_train, y_train)\n",
    "y_hat = knn.predict(X_test)\n",
    "score = knn.score(X_test, y_test)"
   ]
  },
  {
   "cell_type": "code",
   "execution_count": 472,
   "metadata": {},
   "outputs": [
    {
     "data": {
      "text/plain": [
       "16.598692810457514"
      ]
     },
     "execution_count": 472,
     "metadata": {},
     "output_type": "execute_result"
    }
   ],
   "source": [
    "score"
   ]
  },
  {
   "cell_type": "code",
   "execution_count": 300,
   "metadata": {},
   "outputs": [
    {
     "name": "stdout",
     "output_type": "stream",
     "text": [
      "1 24.60843137254902\n",
      "3 16.598692810457514\n",
      "5 15.896980392156863\n",
      "7 18.969395758303325\n",
      "9 20.658867102396517\n",
      "11 23.498943445146654\n",
      "13 24.51325443786983\n",
      "15 24.278203921568636\n"
     ]
    }
   ],
   "source": [
    "for i in range(1,16,2):\n",
    "    knn = KNNClassifier(i, output_type=\"continuou\", weight_type=\"no_weight\")\n",
    "    knn.fit(X_train, y_train)\n",
    "    score = knn.score(X_test, y_test)\n",
    "    print(i, score)"
   ]
  },
  {
   "cell_type": "markdown",
   "metadata": {},
   "source": [
    "## Distance weighting"
   ]
  },
  {
   "cell_type": "code",
   "execution_count": 301,
   "metadata": {},
   "outputs": [
    {
     "name": "stdout",
     "output_type": "stream",
     "text": [
      "1 24.60843137254902\n",
      "3 16.361204005940902\n",
      "5 12.119627591906251\n",
      "7 10.736267400258754\n",
      "9 11.345052919743303\n",
      "11 11.551512562417233\n",
      "13 11.655841849812564\n",
      "15 11.880718647897593\n"
     ]
    }
   ],
   "source": [
    "for i in range(1,16,2):\n",
    "    knn = KNNClassifier(i, output_type=\"continuous\", weight_type=\"inverse_distance\")\n",
    "    knn.fit(X_train, y_train)\n",
    "    score = knn.score(X_test, y_test)\n",
    "    print(i, score)"
   ]
  },
  {
   "cell_type": "markdown",
   "metadata": {},
   "source": [
    "# Credit Approval"
   ]
  },
  {
   "cell_type": "code",
   "execution_count": 486,
   "metadata": {},
   "outputs": [
    {
     "data": {
      "text/plain": [
       "6"
      ]
     },
     "execution_count": 486,
     "metadata": {},
     "output_type": "execute_result"
    }
   ],
   "source": [
    "len(input_type) - sum(input_type)"
   ]
  },
  {
   "cell_type": "code",
   "execution_count": 508,
   "metadata": {},
   "outputs": [
    {
     "data": {
      "text/plain": [
       "array([0.8647343])"
      ]
     },
     "execution_count": 508,
     "metadata": {},
     "output_type": "execute_result"
    }
   ],
   "source": [
    "credit = arff.Arff(arff=r'credit.arff', label_count=1)\n",
    "X = credit[:, :-1]\n",
    "y = credit[:, -1].reshape(-1, 1)\n",
    "X_train, X_test, y_train, y_test = train_test_split(X, y, test_size=0.3)\n",
    "input_type = np.array([1, 0, 0, 1, 1, 1, 1, 0, 1, 1, 0, 1, 1, 0, 0])\n",
    "knn = KNNClassifier(13, output_type=\"nominal\", input_type=input_type)\n",
    "knn.fit(X_train, y_train)\n",
    "knn.score(X_test, y_test)"
   ]
  },
  {
   "cell_type": "code",
   "execution_count": 504,
   "metadata": {},
   "outputs": [
    {
     "name": "stdout",
     "output_type": "stream",
     "text": [
      "1 [0.79710145]\n",
      "3 [0.85024155]\n",
      "5 [0.83091787]\n",
      "7 [0.83574879]\n",
      "9 [0.84541063]\n",
      "11 [0.84541063]\n",
      "13 [0.85507246]\n",
      "15 [0.84541063]\n"
     ]
    }
   ],
   "source": [
    "for i in range(1,16,2):\n",
    "    knn = KNNClassifier(i, output_type=\"nominal\", input_type=input_type)\n",
    "    knn.fit(X_train, y_train)\n",
    "    score = knn.score(X_test, y_test)\n",
    "    print(i, score)"
   ]
  },
  {
   "cell_type": "code",
   "execution_count": 415,
   "metadata": {},
   "outputs": [],
   "source": [
    "nom_diff = np.sum(X_nom != x_nom, axis=1)\n",
    "cont_diff = X_cont - x_cont\n",
    "cont_diff[np.isnan(cont_diff)] = 1"
   ]
  },
  {
   "cell_type": "markdown",
   "metadata": {},
   "source": [
    "# Sklearn's implementation"
   ]
  },
  {
   "cell_type": "code",
   "execution_count": 510,
   "metadata": {},
   "outputs": [],
   "source": [
    "from sklearn.neighbors import KNeighborsClassifier as KNC\n",
    "from sklearn.neighbors import KNeighborsRegressor as KNR"
   ]
  },
  {
   "cell_type": "markdown",
   "metadata": {},
   "source": [
    "## Telescope"
   ]
  },
  {
   "cell_type": "markdown",
   "metadata": {},
   "source": [
    "### Raw"
   ]
  },
  {
   "cell_type": "code",
   "execution_count": 521,
   "metadata": {},
   "outputs": [
    {
     "data": {
      "text/plain": [
       "0.8136813681368137"
      ]
     },
     "execution_count": 521,
     "metadata": {},
     "output_type": "execute_result"
    }
   ],
   "source": [
    "telescope_train = arff.Arff(arff=r'telescope_train.arff', label_count=1)\n",
    "telescope_test = arff.Arff(arff=r'telescope_test.arff', label_count=1)\n",
    "X_train = telescope_train[:, :-1]\n",
    "y_train = telescope_train[:, -1]\n",
    "X_test = telescope_test[:, :-1]\n",
    "y_test = telescope_test[:, -1]\n",
    "clf = KNC()\n",
    "clf.fit(X_train, y_train)\n",
    "clf.score(X_test, y_test)"
   ]
  },
  {
   "cell_type": "markdown",
   "metadata": {},
   "source": [
    "### Normalized"
   ]
  },
  {
   "cell_type": "code",
   "execution_count": 522,
   "metadata": {},
   "outputs": [
    {
     "data": {
      "text/plain": [
       "0.8444344434443445"
      ]
     },
     "execution_count": 522,
     "metadata": {},
     "output_type": "execute_result"
    }
   ],
   "source": [
    "min_val = np.nanmin(X_train, axis=0)\n",
    "max_val = np.nanmax(X_train, axis=0)\n",
    "X_train = normalize(X_train)\n",
    "X_test = normalize(X_test, min_val=min_val, max_val=max_val)\n",
    "clf = KNC()\n",
    "clf.fit(X_train, y_train)\n",
    "clf.score(X_test, y_test)"
   ]
  },
  {
   "cell_type": "code",
   "execution_count": 524,
   "metadata": {},
   "outputs": [
    {
     "name": "stdout",
     "output_type": "stream",
     "text": [
      "1 0.8114311431143114\n",
      "3 0.8306330633063307\n",
      "5 0.8444344434443445\n",
      "7 0.8438343834383438\n",
      "9 0.8445844584458446\n",
      "11 0.8462346234623462\n",
      "13 0.8465346534653465\n",
      "15 0.8429342934293429\n"
     ]
    }
   ],
   "source": [
    "for i in range(1, 16, 2):\n",
    "    clf = KNC(n_neighbors=i)\n",
    "    clf.fit(X_train, y_train)\n",
    "    score = clf.score(X_test, y_test)\n",
    "    print(i, score)"
   ]
  },
  {
   "cell_type": "markdown",
   "metadata": {},
   "source": [
    "### Inverse Distance"
   ]
  },
  {
   "cell_type": "code",
   "execution_count": 525,
   "metadata": {},
   "outputs": [
    {
     "data": {
      "text/plain": [
       "0.8466846684668466"
      ]
     },
     "execution_count": 525,
     "metadata": {},
     "output_type": "execute_result"
    }
   ],
   "source": [
    "min_val = np.nanmin(X_train, axis=0)\n",
    "max_val = np.nanmax(X_train, axis=0)\n",
    "X_train = normalize(X_train)\n",
    "X_test = normalize(X_test, min_val=min_val, max_val=max_val)\n",
    "clf = KNC(weights=\"distance\")\n",
    "clf.fit(X_train, y_train)\n",
    "clf.score(X_test, y_test)"
   ]
  },
  {
   "cell_type": "code",
   "execution_count": 527,
   "metadata": {},
   "outputs": [
    {
     "name": "stdout",
     "output_type": "stream",
     "text": [
      "1 0.8114311431143114\n",
      "3 0.8325832583258326\n",
      "5 0.8466846684668466\n",
      "7 0.8478847884788479\n",
      "9 0.8481848184818482\n",
      "11 0.8505850585058505\n",
      "13 0.8489348934893489\n",
      "15 0.8474347434743474\n"
     ]
    }
   ],
   "source": [
    "for i in range(1, 16, 2):\n",
    "    clf = KNC(n_neighbors=i, weights=\"distance\")\n",
    "    clf.fit(X_train, y_train)\n",
    "    score = clf.score(X_test, y_test)\n",
    "    print(i, score)"
   ]
  },
  {
   "cell_type": "markdown",
   "metadata": {},
   "source": [
    "### L1 norm"
   ]
  },
  {
   "cell_type": "code",
   "execution_count": 531,
   "metadata": {},
   "outputs": [
    {
     "data": {
      "text/plain": [
       "0.8517851785178517"
      ]
     },
     "execution_count": 531,
     "metadata": {},
     "output_type": "execute_result"
    }
   ],
   "source": [
    "min_val = np.nanmin(X_train, axis=0)\n",
    "max_val = np.nanmax(X_train, axis=0)\n",
    "X_train = normalize(X_train)\n",
    "X_test = normalize(X_test, min_val=min_val, max_val=max_val)\n",
    "clf = KNC(n_neighbors=11, weights=\"distance\", p=1)\n",
    "clf.fit(X_train, y_train)\n",
    "clf.score(X_test, y_test)"
   ]
  },
  {
   "cell_type": "markdown",
   "metadata": {},
   "source": [
    "## Housing"
   ]
  },
  {
   "cell_type": "markdown",
   "metadata": {},
   "source": [
    "### Raw"
   ]
  },
  {
   "cell_type": "code",
   "execution_count": 533,
   "metadata": {},
   "outputs": [
    {
     "data": {
      "text/plain": [
       "0.25491902354492035"
      ]
     },
     "execution_count": 533,
     "metadata": {},
     "output_type": "execute_result"
    }
   ],
   "source": [
    "housing_train = arff.Arff(arff=r'housing_train.arff', label_count=1)\n",
    "housing_test = arff.Arff(arff=r'housing_test.arff', label_count=1)\n",
    "X_train = housing_train[:, :-1]\n",
    "y_train = housing_train[:, -1]\n",
    "X_test = housing_test[:, :-1]\n",
    "y_test = housing_test[:, -1]\n",
    "regr = KNR()\n",
    "regr.fit(X_train, y_train)\n",
    "regr.score(X_test, y_test)"
   ]
  },
  {
   "cell_type": "markdown",
   "metadata": {},
   "source": [
    "### Normalized"
   ]
  },
  {
   "cell_type": "code",
   "execution_count": 534,
   "metadata": {},
   "outputs": [
    {
     "data": {
      "text/plain": [
       "0.7925759551513474"
      ]
     },
     "execution_count": 534,
     "metadata": {},
     "output_type": "execute_result"
    }
   ],
   "source": [
    "min_val = np.nanmin(X_train, axis=0)\n",
    "max_val = np.nanmax(X_train, axis=0)\n",
    "X_train = normalize(X_train)\n",
    "X_test = normalize(X_test, min_val=min_val, max_val=max_val)\n",
    "regr = KNR()\n",
    "regr.fit(X_train, y_train)\n",
    "regr.score(X_test, y_test)"
   ]
  },
  {
   "cell_type": "code",
   "execution_count": 535,
   "metadata": {},
   "outputs": [
    {
     "name": "stdout",
     "output_type": "stream",
     "text": [
      "1 0.6789088086695408\n",
      "3 0.7834200007163616\n",
      "5 0.7925759551513474\n",
      "7 0.7524870321621944\n",
      "9 0.7304427840595424\n",
      "11 0.6933854242239067\n",
      "13 0.680150678778231\n",
      "15 0.6832176215329073\n"
     ]
    }
   ],
   "source": [
    "for i in range(1, 16, 2):\n",
    "    regr = KNR(n_neighbors=i)\n",
    "    regr.fit(X_train, y_train)\n",
    "    score = regr.score(X_test, y_test)\n",
    "    print(i, score)"
   ]
  },
  {
   "cell_type": "markdown",
   "metadata": {},
   "source": [
    "### Inverse distance"
   ]
  },
  {
   "cell_type": "code",
   "execution_count": 536,
   "metadata": {},
   "outputs": [
    {
     "name": "stdout",
     "output_type": "stream",
     "text": [
      "1 0.6789088086695411\n",
      "3 0.7991753902998118\n",
      "5 0.8411800448532063\n",
      "7 0.8366218833290943\n",
      "9 0.8173612829633798\n",
      "11 0.7996109064914753\n",
      "13 0.7897133604468035\n",
      "15 0.7841246752040515\n"
     ]
    }
   ],
   "source": [
    "for i in range(1, 16, 2):\n",
    "    regr = KNR(n_neighbors=i, weights=\"distance\")\n",
    "    regr.fit(X_train, y_train)\n",
    "    score = regr.score(X_test, y_test)\n",
    "    print(i, score)"
   ]
  },
  {
   "cell_type": "markdown",
   "metadata": {},
   "source": [
    "### L1 norm"
   ]
  },
  {
   "cell_type": "code",
   "execution_count": 537,
   "metadata": {},
   "outputs": [
    {
     "data": {
      "text/plain": [
       "0.8578979081717918"
      ]
     },
     "execution_count": 537,
     "metadata": {},
     "output_type": "execute_result"
    }
   ],
   "source": [
    "regr = KNR(n_neighbors=5, weights=\"distance\", p=1)\n",
    "regr.fit(X_train, y_train)\n",
    "regr.score(X_test, y_test)"
   ]
  },
  {
   "cell_type": "markdown",
   "metadata": {},
   "source": [
    "## Human Activity Recognition Using Smartphones Data Set"
   ]
  },
  {
   "cell_type": "code",
   "execution_count": 549,
   "metadata": {},
   "outputs": [],
   "source": [
    "X_train = np.loadtxt(\"HAR_X_train.txt\")\n",
    "y_train = np.loadtxt(\"HAR_y_train.txt\")\n",
    "X_test = np.loadtxt(\"HAR_X_test.txt\")\n",
    "y_test = np.loadtxt(\"HAR_y_test.txt\")"
   ]
  },
  {
   "cell_type": "markdown",
   "metadata": {},
   "source": [
    "### Baseline"
   ]
  },
  {
   "cell_type": "code",
   "execution_count": 555,
   "metadata": {},
   "outputs": [
    {
     "data": {
      "text/plain": [
       "0.9015948422124194"
      ]
     },
     "execution_count": 555,
     "metadata": {},
     "output_type": "execute_result"
    }
   ],
   "source": [
    "clf = KNC()\n",
    "clf.fit(X_train, y_train)\n",
    "clf.score(X_test, y_test)"
   ]
  },
  {
   "cell_type": "code",
   "execution_count": 556,
   "metadata": {},
   "outputs": [
    {
     "name": "stdout",
     "output_type": "stream",
     "text": [
      "1 0.8785205293518833\n",
      "3 0.8907363420427553\n",
      "5 0.9015948422124194\n",
      "7 0.9032914828639295\n",
      "9 0.9053274516457415\n",
      "11 0.9046487953851374\n",
      "13 0.9063454360366474\n",
      "15 0.9043094672548354\n"
     ]
    }
   ],
   "source": [
    "for i in range(1, 16, 2):\n",
    "    clf = KNC(n_neighbors=i)\n",
    "    clf.fit(X_train, y_train)\n",
    "    score = clf.score(X_test, y_test)\n",
    "    print(i, score)"
   ]
  },
  {
   "cell_type": "code",
   "execution_count": 560,
   "metadata": {},
   "outputs": [
    {
     "name": "stdout",
     "output_type": "stream",
     "text": [
      "1 0.8785205293518833\n",
      "3 0.8907363420427553\n",
      "5 0.9002375296912114\n",
      "7 0.9043094672548354\n",
      "9 0.9060061079063454\n",
      "11 0.9053274516457415\n",
      "13 0.9066847641669494\n",
      "15 0.9049881235154394\n"
     ]
    }
   ],
   "source": [
    "for i in range(1, 16, 2):\n",
    "    clf = KNC(n_neighbors=i, weights=\"distance\")\n",
    "    clf.fit(X_train, y_train)\n",
    "    score = clf.score(X_test, y_test)\n",
    "    print(i, score)"
   ]
  },
  {
   "cell_type": "code",
   "execution_count": 561,
   "metadata": {},
   "outputs": [
    {
     "name": "stdout",
     "output_type": "stream",
     "text": [
      "5 0.9134713267729895\n",
      "7 0.9127926705123854\n",
      "9 0.9168646080760094\n",
      "11 0.9212758737699356\n",
      "13 0.9195792331184255\n",
      "15 0.9178825924669155\n"
     ]
    }
   ],
   "source": [
    "for i in range(5, 16, 2):\n",
    "    clf = KNC(n_neighbors=i, weights=\"distance\", p=1)\n",
    "    clf.fit(X_train, y_train)\n",
    "    score = clf.score(X_test, y_test)\n",
    "    print(i, score)"
   ]
  },
  {
   "cell_type": "markdown",
   "metadata": {},
   "source": [
    "### PCA"
   ]
  },
  {
   "cell_type": "code",
   "execution_count": 562,
   "metadata": {},
   "outputs": [],
   "source": [
    "from sklearn.decomposition import PCA"
   ]
  },
  {
   "cell_type": "code",
   "execution_count": 563,
   "metadata": {},
   "outputs": [
    {
     "data": {
      "text/plain": [
       "PCA(copy=True, iterated_power='auto', n_components=100, random_state=None,\n",
       "    svd_solver='auto', tol=0.0, whiten=False)"
      ]
     },
     "execution_count": 563,
     "metadata": {},
     "output_type": "execute_result"
    }
   ],
   "source": [
    "pca = PCA(n_components=100)\n",
    "pca.fit(X_train)"
   ]
  },
  {
   "cell_type": "code",
   "execution_count": 574,
   "metadata": {},
   "outputs": [
    {
     "name": "stdout",
     "output_type": "stream",
     "text": [
      "0 0\n",
      "1 0.6255443998293534\n",
      "2 0.6746746270487949\n",
      "3 0.7158893015785994\n",
      "4 0.7346388628001297\n",
      "5 0.7515874626545213\n",
      "6 0.7643081555473861\n",
      "7 0.7760750069117569\n",
      "8 0.7867647385552015\n",
      "9 0.7964585363441172\n",
      "10 0.805038718055507\n",
      "11 0.8126617371636761\n",
      "12 0.8193861937687167\n",
      "13 0.8251803897253632\n",
      "14 0.8307591961044213\n",
      "15 0.8357484534049383\n",
      "16 0.8404978296656398\n",
      "17 0.8451698307587513\n",
      "18 0.8494860093575678\n",
      "19 0.8537431611559121\n",
      "20 0.8578471115324018\n",
      "21 0.8617871355416186\n",
      "22 0.8655402286941136\n",
      "23 0.8690645035649698\n",
      "24 0.8724580977898989\n",
      "25 0.8757794877585672\n",
      "26 0.8789737756057521\n",
      "27 0.8819915670727286\n",
      "28 0.8849093927710497\n",
      "29 0.8878050922775711\n",
      "30 0.8906243701225776\n",
      "31 0.8933914115129044\n",
      "32 0.8960253619771138\n",
      "33 0.8985784287191072\n",
      "34 0.9009370874417739\n",
      "35 0.9032436101601724\n",
      "36 0.9054800914304529\n",
      "37 0.9077095723823094\n",
      "38 0.9098123319251135\n",
      "39 0.9118962602285122\n",
      "40 0.9139439973233491\n",
      "41 0.9158725605365415\n",
      "42 0.9177613552873035\n",
      "43 0.9195731548268612\n",
      "44 0.9213678789517435\n",
      "45 0.9230911523383434\n",
      "46 0.9246931659551466\n",
      "47 0.9262635568953159\n",
      "48 0.9278298262326408\n",
      "49 0.9293595096437001\n",
      "50 0.930863015876832\n",
      "51 0.9323141808958973\n",
      "52 0.9337205679381197\n",
      "53 0.9350887905415339\n",
      "54 0.9363573220066395\n",
      "55 0.9376072570196498\n",
      "56 0.9388046348046847\n",
      "57 0.9399857821534529\n",
      "58 0.9411357008008135\n",
      "59 0.9422664798976208\n",
      "60 0.9433630778696525\n",
      "61 0.9444400646417831\n",
      "62 0.9454889927578102\n",
      "63 0.9465278438550715\n",
      "64 0.9475423360844644\n",
      "65 0.9485336562695337\n",
      "66 0.9495037106221135\n",
      "67 0.9504576581117798\n",
      "68 0.9513718421244985\n",
      "69 0.9522590958132985\n",
      "70 0.9531343969595917\n",
      "71 0.9539864938312982\n",
      "72 0.9548151454708855\n",
      "73 0.9556357179254066\n",
      "74 0.9564411066775115\n",
      "75 0.9572221697233143\n",
      "76 0.958000241589733\n",
      "77 0.9587709280942508\n",
      "78 0.9595146838377256\n",
      "79 0.9602454972231178\n",
      "80 0.9609653739641094\n",
      "81 0.9616689218566418\n",
      "82 0.9623565297132598\n",
      "83 0.9630317132947218\n",
      "84 0.9636897901319252\n",
      "85 0.9643394403646619\n",
      "86 0.9649832600094287\n",
      "87 0.965617123201995\n",
      "88 0.9662424488359993\n",
      "89 0.9668521735422239\n",
      "90 0.9674500856202513\n",
      "91 0.9680465936450764\n",
      "92 0.9686316724867573\n",
      "93 0.9691965375165561\n",
      "94 0.9697457325384126\n",
      "95 0.9702852579332579\n",
      "96 0.9708174551679829\n",
      "97 0.9713488582276256\n",
      "98 0.9718586139833619\n",
      "99 0.9723664547829076\n"
     ]
    }
   ],
   "source": [
    "for i in range(100):\n",
    "    print(i, sum(pca.explained_variance_ratio_[:i]))"
   ]
  },
  {
   "cell_type": "code",
   "execution_count": 577,
   "metadata": {},
   "outputs": [],
   "source": [
    "pca = PCA(n_components=34)\n",
    "X_train_pca = pca.fit_transform(X_train)\n",
    "X_test_pca = pca.transform(X_test)"
   ]
  },
  {
   "cell_type": "code",
   "execution_count": 583,
   "metadata": {},
   "outputs": [
    {
     "name": "stdout",
     "output_type": "stream",
     "text": [
      "15 0.8914149983033594\n",
      "17 0.8873430607397353\n",
      "19 0.8859857482185273\n",
      "21 0.8832711231761113\n",
      "23 0.8853070919579233\n",
      "25 0.8842891075670173\n",
      "27 0.8849677638276213\n",
      "29 0.8856464200882254\n",
      "31 0.8839497794367153\n"
     ]
    }
   ],
   "source": [
    "for i in range(15, 32, 2):\n",
    "    clf = KNC(n_neighbors=i, weights=\"distance\", p=2)\n",
    "    clf.fit(X_train_pca, y_train)\n",
    "    score = clf.score(X_test_pca, y_test)\n",
    "    print(i, score)"
   ]
  },
  {
   "cell_type": "markdown",
   "metadata": {},
   "source": [
    "## Greedy Wrapper"
   ]
  },
  {
   "cell_type": "code",
   "execution_count": 591,
   "metadata": {},
   "outputs": [],
   "source": [
    "from sklearn.base import clone"
   ]
  },
  {
   "cell_type": "code",
   "execution_count": 632,
   "metadata": {},
   "outputs": [],
   "source": [
    "def greedy_wrapper(model, X_train, X_test, y_train, y_test, max_features=40):\n",
    "    num_features = X_train.shape[1]\n",
    "    best_features = []\n",
    "    for i in range(max_features+1):\n",
    "        scores = np.zeros(num_features)\n",
    "        for j in range(num_features):\n",
    "            if j in best_features:\n",
    "                continue\n",
    "            wrap = best_features + [j]\n",
    "            W_train = X_train[:, wrap]\n",
    "            W_test = X_test[:, wrap]\n",
    "            clf = clone(model)\n",
    "            clf.fit(W_train, y_train)\n",
    "            score = clf.score(W_test, y_test)\n",
    "            scores[j] = score\n",
    "        best = np.argmax(scores)\n",
    "        best_features.append(best)\n",
    "        print(best_features)\n",
    "        print(np.max(scores))\n",
    "        print()"
   ]
  },
  {
   "cell_type": "code",
   "execution_count": 633,
   "metadata": {},
   "outputs": [
    {
     "name": "stdout",
     "output_type": "stream",
     "text": [
      "[302]\n",
      "0.47845266372582285\n",
      "\n",
      "[302, 558]\n",
      "0.7091957923311842\n",
      "\n",
      "[302, 558, 166]\n",
      "0.7828299966067187\n",
      "\n",
      "[302, 558, 166, 52]\n",
      "0.825924669155073\n",
      "\n",
      "[302, 558, 166, 52, 228]\n",
      "0.8598574821852731\n",
      "\n",
      "[302, 558, 166, 52, 228, 120]\n",
      "0.8788598574821853\n",
      "\n",
      "[302, 558, 166, 52, 228, 120, 508]\n",
      "0.8937902952154734\n",
      "\n",
      "[302, 558, 166, 52, 228, 120, 508, 126]\n",
      "0.9036308109942314\n",
      "\n",
      "[302, 558, 166, 52, 228, 120, 508, 126, 128]\n",
      "0.9131319986426875\n",
      "\n",
      "[302, 558, 166, 52, 228, 120, 508, 126, 128, 95]\n",
      "0.9209365456396336\n",
      "\n",
      "[302, 558, 166, 52, 228, 120, 508, 126, 128, 95, 40]\n",
      "0.9260264675941635\n",
      "\n",
      "[302, 558, 166, 52, 228, 120, 508, 126, 128, 95, 40, 411]\n",
      "0.9294197488971836\n",
      "\n",
      "[302, 558, 166, 52, 228, 120, 508, 126, 128, 95, 40, 411, 464]\n",
      "0.9304377332880895\n",
      "\n",
      "[302, 558, 166, 52, 228, 120, 508, 126, 128, 95, 40, 411, 464, 481]\n",
      "0.9321343739395996\n",
      "\n",
      "[302, 558, 166, 52, 228, 120, 508, 126, 128, 95, 40, 411, 464, 481, 413]\n",
      "0.9317950458092976\n",
      "\n",
      "[302, 558, 166, 52, 228, 120, 508, 126, 128, 95, 40, 411, 464, 481, 413, 388]\n",
      "0.9321343739395996\n",
      "\n",
      "[302, 558, 166, 52, 228, 120, 508, 126, 128, 95, 40, 411, 464, 481, 413, 388, 233]\n",
      "0.9304377332880895\n",
      "\n"
     ]
    },
    {
     "ename": "KeyboardInterrupt",
     "evalue": "",
     "output_type": "error",
     "traceback": [
      "\u001b[0;31m---------------------------------------------------------------------------\u001b[0m",
      "\u001b[0;31mKeyboardInterrupt\u001b[0m                         Traceback (most recent call last)",
      "\u001b[0;32m<ipython-input-633-8440dd980040>\u001b[0m in \u001b[0;36m<module>\u001b[0;34m\u001b[0m\n\u001b[1;32m      1\u001b[0m \u001b[0mclf\u001b[0m \u001b[0;34m=\u001b[0m \u001b[0mKNC\u001b[0m\u001b[0;34m(\u001b[0m\u001b[0mn_neighbors\u001b[0m\u001b[0;34m=\u001b[0m\u001b[0;36m11\u001b[0m\u001b[0;34m,\u001b[0m \u001b[0mweights\u001b[0m\u001b[0;34m=\u001b[0m\u001b[0;34m\"distance\"\u001b[0m\u001b[0;34m,\u001b[0m \u001b[0mp\u001b[0m\u001b[0;34m=\u001b[0m\u001b[0;36m1\u001b[0m\u001b[0;34m)\u001b[0m\u001b[0;34m\u001b[0m\u001b[0;34m\u001b[0m\u001b[0m\n\u001b[0;32m----> 2\u001b[0;31m \u001b[0mgreedy_wrapper\u001b[0m\u001b[0;34m(\u001b[0m\u001b[0mclf\u001b[0m\u001b[0;34m,\u001b[0m \u001b[0mX_train\u001b[0m\u001b[0;34m,\u001b[0m \u001b[0mX_test\u001b[0m\u001b[0;34m,\u001b[0m \u001b[0my_train\u001b[0m\u001b[0;34m,\u001b[0m \u001b[0my_test\u001b[0m\u001b[0;34m)\u001b[0m\u001b[0;34m\u001b[0m\u001b[0;34m\u001b[0m\u001b[0m\n\u001b[0m",
      "\u001b[0;32m<ipython-input-632-ea95ef8ae3ad>\u001b[0m in \u001b[0;36mgreedy_wrapper\u001b[0;34m(model, X_train, X_test, y_train, y_test, max_features)\u001b[0m\n\u001b[1;32m     12\u001b[0m             \u001b[0mclf\u001b[0m \u001b[0;34m=\u001b[0m \u001b[0mclone\u001b[0m\u001b[0;34m(\u001b[0m\u001b[0mmodel\u001b[0m\u001b[0;34m)\u001b[0m\u001b[0;34m\u001b[0m\u001b[0;34m\u001b[0m\u001b[0m\n\u001b[1;32m     13\u001b[0m             \u001b[0mclf\u001b[0m\u001b[0;34m.\u001b[0m\u001b[0mfit\u001b[0m\u001b[0;34m(\u001b[0m\u001b[0mW_train\u001b[0m\u001b[0;34m,\u001b[0m \u001b[0my_train\u001b[0m\u001b[0;34m)\u001b[0m\u001b[0;34m\u001b[0m\u001b[0;34m\u001b[0m\u001b[0m\n\u001b[0;32m---> 14\u001b[0;31m             \u001b[0mscore\u001b[0m \u001b[0;34m=\u001b[0m \u001b[0mclf\u001b[0m\u001b[0;34m.\u001b[0m\u001b[0mscore\u001b[0m\u001b[0;34m(\u001b[0m\u001b[0mW_test\u001b[0m\u001b[0;34m,\u001b[0m \u001b[0my_test\u001b[0m\u001b[0;34m)\u001b[0m\u001b[0;34m\u001b[0m\u001b[0;34m\u001b[0m\u001b[0m\n\u001b[0m\u001b[1;32m     15\u001b[0m             \u001b[0mscores\u001b[0m\u001b[0;34m[\u001b[0m\u001b[0mj\u001b[0m\u001b[0;34m]\u001b[0m \u001b[0;34m=\u001b[0m \u001b[0mscore\u001b[0m\u001b[0;34m\u001b[0m\u001b[0;34m\u001b[0m\u001b[0m\n\u001b[1;32m     16\u001b[0m         \u001b[0mbest\u001b[0m \u001b[0;34m=\u001b[0m \u001b[0mnp\u001b[0m\u001b[0;34m.\u001b[0m\u001b[0margmax\u001b[0m\u001b[0;34m(\u001b[0m\u001b[0mscores\u001b[0m\u001b[0;34m)\u001b[0m\u001b[0;34m\u001b[0m\u001b[0;34m\u001b[0m\u001b[0m\n",
      "\u001b[0;32m~/anaconda3/lib/python3.6/site-packages/sklearn/base.py\u001b[0m in \u001b[0;36mscore\u001b[0;34m(self, X, y, sample_weight)\u001b[0m\n\u001b[1;32m    355\u001b[0m         \"\"\"\n\u001b[1;32m    356\u001b[0m         \u001b[0;32mfrom\u001b[0m \u001b[0;34m.\u001b[0m\u001b[0mmetrics\u001b[0m \u001b[0;32mimport\u001b[0m \u001b[0maccuracy_score\u001b[0m\u001b[0;34m\u001b[0m\u001b[0;34m\u001b[0m\u001b[0m\n\u001b[0;32m--> 357\u001b[0;31m         \u001b[0;32mreturn\u001b[0m \u001b[0maccuracy_score\u001b[0m\u001b[0;34m(\u001b[0m\u001b[0my\u001b[0m\u001b[0;34m,\u001b[0m \u001b[0mself\u001b[0m\u001b[0;34m.\u001b[0m\u001b[0mpredict\u001b[0m\u001b[0;34m(\u001b[0m\u001b[0mX\u001b[0m\u001b[0;34m)\u001b[0m\u001b[0;34m,\u001b[0m \u001b[0msample_weight\u001b[0m\u001b[0;34m=\u001b[0m\u001b[0msample_weight\u001b[0m\u001b[0;34m)\u001b[0m\u001b[0;34m\u001b[0m\u001b[0;34m\u001b[0m\u001b[0m\n\u001b[0m\u001b[1;32m    358\u001b[0m \u001b[0;34m\u001b[0m\u001b[0m\n\u001b[1;32m    359\u001b[0m \u001b[0;34m\u001b[0m\u001b[0m\n",
      "\u001b[0;32m~/anaconda3/lib/python3.6/site-packages/sklearn/neighbors/classification.py\u001b[0m in \u001b[0;36mpredict\u001b[0;34m(self, X)\u001b[0m\n\u001b[1;32m    147\u001b[0m         \u001b[0mX\u001b[0m \u001b[0;34m=\u001b[0m \u001b[0mcheck_array\u001b[0m\u001b[0;34m(\u001b[0m\u001b[0mX\u001b[0m\u001b[0;34m,\u001b[0m \u001b[0maccept_sparse\u001b[0m\u001b[0;34m=\u001b[0m\u001b[0;34m'csr'\u001b[0m\u001b[0;34m)\u001b[0m\u001b[0;34m\u001b[0m\u001b[0;34m\u001b[0m\u001b[0m\n\u001b[1;32m    148\u001b[0m \u001b[0;34m\u001b[0m\u001b[0m\n\u001b[0;32m--> 149\u001b[0;31m         \u001b[0mneigh_dist\u001b[0m\u001b[0;34m,\u001b[0m \u001b[0mneigh_ind\u001b[0m \u001b[0;34m=\u001b[0m \u001b[0mself\u001b[0m\u001b[0;34m.\u001b[0m\u001b[0mkneighbors\u001b[0m\u001b[0;34m(\u001b[0m\u001b[0mX\u001b[0m\u001b[0;34m)\u001b[0m\u001b[0;34m\u001b[0m\u001b[0;34m\u001b[0m\u001b[0m\n\u001b[0m\u001b[1;32m    150\u001b[0m         \u001b[0mclasses_\u001b[0m \u001b[0;34m=\u001b[0m \u001b[0mself\u001b[0m\u001b[0;34m.\u001b[0m\u001b[0mclasses_\u001b[0m\u001b[0;34m\u001b[0m\u001b[0;34m\u001b[0m\u001b[0m\n\u001b[1;32m    151\u001b[0m         \u001b[0m_y\u001b[0m \u001b[0;34m=\u001b[0m \u001b[0mself\u001b[0m\u001b[0;34m.\u001b[0m\u001b[0m_y\u001b[0m\u001b[0;34m\u001b[0m\u001b[0;34m\u001b[0m\u001b[0m\n",
      "\u001b[0;32m~/anaconda3/lib/python3.6/site-packages/sklearn/neighbors/base.py\u001b[0m in \u001b[0;36mkneighbors\u001b[0;34m(self, X, n_neighbors, return_distance)\u001b[0m\n\u001b[1;32m    452\u001b[0m                 delayed_query(\n\u001b[1;32m    453\u001b[0m                     self._tree, X[s], n_neighbors, return_distance)\n\u001b[0;32m--> 454\u001b[0;31m                 \u001b[0;32mfor\u001b[0m \u001b[0ms\u001b[0m \u001b[0;32min\u001b[0m \u001b[0mgen_even_slices\u001b[0m\u001b[0;34m(\u001b[0m\u001b[0mX\u001b[0m\u001b[0;34m.\u001b[0m\u001b[0mshape\u001b[0m\u001b[0;34m[\u001b[0m\u001b[0;36m0\u001b[0m\u001b[0;34m]\u001b[0m\u001b[0;34m,\u001b[0m \u001b[0mn_jobs\u001b[0m\u001b[0;34m)\u001b[0m\u001b[0;34m\u001b[0m\u001b[0;34m\u001b[0m\u001b[0m\n\u001b[0m\u001b[1;32m    455\u001b[0m             )\n\u001b[1;32m    456\u001b[0m         \u001b[0;32melse\u001b[0m\u001b[0;34m:\u001b[0m\u001b[0;34m\u001b[0m\u001b[0;34m\u001b[0m\u001b[0m\n",
      "\u001b[0;32m~/anaconda3/lib/python3.6/site-packages/joblib/parallel.py\u001b[0m in \u001b[0;36m__call__\u001b[0;34m(self, iterable)\u001b[0m\n\u001b[1;32m    919\u001b[0m             \u001b[0;31m# remaining jobs.\u001b[0m\u001b[0;34m\u001b[0m\u001b[0;34m\u001b[0m\u001b[0;34m\u001b[0m\u001b[0m\n\u001b[1;32m    920\u001b[0m             \u001b[0mself\u001b[0m\u001b[0;34m.\u001b[0m\u001b[0m_iterating\u001b[0m \u001b[0;34m=\u001b[0m \u001b[0;32mFalse\u001b[0m\u001b[0;34m\u001b[0m\u001b[0;34m\u001b[0m\u001b[0m\n\u001b[0;32m--> 921\u001b[0;31m             \u001b[0;32mif\u001b[0m \u001b[0mself\u001b[0m\u001b[0;34m.\u001b[0m\u001b[0mdispatch_one_batch\u001b[0m\u001b[0;34m(\u001b[0m\u001b[0miterator\u001b[0m\u001b[0;34m)\u001b[0m\u001b[0;34m:\u001b[0m\u001b[0;34m\u001b[0m\u001b[0;34m\u001b[0m\u001b[0m\n\u001b[0m\u001b[1;32m    922\u001b[0m                 \u001b[0mself\u001b[0m\u001b[0;34m.\u001b[0m\u001b[0m_iterating\u001b[0m \u001b[0;34m=\u001b[0m \u001b[0mself\u001b[0m\u001b[0;34m.\u001b[0m\u001b[0m_original_iterator\u001b[0m \u001b[0;32mis\u001b[0m \u001b[0;32mnot\u001b[0m \u001b[0;32mNone\u001b[0m\u001b[0;34m\u001b[0m\u001b[0;34m\u001b[0m\u001b[0m\n\u001b[1;32m    923\u001b[0m \u001b[0;34m\u001b[0m\u001b[0m\n",
      "\u001b[0;32m~/anaconda3/lib/python3.6/site-packages/joblib/parallel.py\u001b[0m in \u001b[0;36mdispatch_one_batch\u001b[0;34m(self, iterator)\u001b[0m\n\u001b[1;32m    757\u001b[0m                 \u001b[0;32mreturn\u001b[0m \u001b[0;32mFalse\u001b[0m\u001b[0;34m\u001b[0m\u001b[0;34m\u001b[0m\u001b[0m\n\u001b[1;32m    758\u001b[0m             \u001b[0;32melse\u001b[0m\u001b[0;34m:\u001b[0m\u001b[0;34m\u001b[0m\u001b[0;34m\u001b[0m\u001b[0m\n\u001b[0;32m--> 759\u001b[0;31m                 \u001b[0mself\u001b[0m\u001b[0;34m.\u001b[0m\u001b[0m_dispatch\u001b[0m\u001b[0;34m(\u001b[0m\u001b[0mtasks\u001b[0m\u001b[0;34m)\u001b[0m\u001b[0;34m\u001b[0m\u001b[0;34m\u001b[0m\u001b[0m\n\u001b[0m\u001b[1;32m    760\u001b[0m                 \u001b[0;32mreturn\u001b[0m \u001b[0;32mTrue\u001b[0m\u001b[0;34m\u001b[0m\u001b[0;34m\u001b[0m\u001b[0m\n\u001b[1;32m    761\u001b[0m \u001b[0;34m\u001b[0m\u001b[0m\n",
      "\u001b[0;32m~/anaconda3/lib/python3.6/site-packages/joblib/parallel.py\u001b[0m in \u001b[0;36m_dispatch\u001b[0;34m(self, batch)\u001b[0m\n\u001b[1;32m    714\u001b[0m         \u001b[0;32mwith\u001b[0m \u001b[0mself\u001b[0m\u001b[0;34m.\u001b[0m\u001b[0m_lock\u001b[0m\u001b[0;34m:\u001b[0m\u001b[0;34m\u001b[0m\u001b[0;34m\u001b[0m\u001b[0m\n\u001b[1;32m    715\u001b[0m             \u001b[0mjob_idx\u001b[0m \u001b[0;34m=\u001b[0m \u001b[0mlen\u001b[0m\u001b[0;34m(\u001b[0m\u001b[0mself\u001b[0m\u001b[0;34m.\u001b[0m\u001b[0m_jobs\u001b[0m\u001b[0;34m)\u001b[0m\u001b[0;34m\u001b[0m\u001b[0;34m\u001b[0m\u001b[0m\n\u001b[0;32m--> 716\u001b[0;31m             \u001b[0mjob\u001b[0m \u001b[0;34m=\u001b[0m \u001b[0mself\u001b[0m\u001b[0;34m.\u001b[0m\u001b[0m_backend\u001b[0m\u001b[0;34m.\u001b[0m\u001b[0mapply_async\u001b[0m\u001b[0;34m(\u001b[0m\u001b[0mbatch\u001b[0m\u001b[0;34m,\u001b[0m \u001b[0mcallback\u001b[0m\u001b[0;34m=\u001b[0m\u001b[0mcb\u001b[0m\u001b[0;34m)\u001b[0m\u001b[0;34m\u001b[0m\u001b[0;34m\u001b[0m\u001b[0m\n\u001b[0m\u001b[1;32m    717\u001b[0m             \u001b[0;31m# A job can complete so quickly than its callback is\u001b[0m\u001b[0;34m\u001b[0m\u001b[0;34m\u001b[0m\u001b[0;34m\u001b[0m\u001b[0m\n\u001b[1;32m    718\u001b[0m             \u001b[0;31m# called before we get here, causing self._jobs to\u001b[0m\u001b[0;34m\u001b[0m\u001b[0;34m\u001b[0m\u001b[0;34m\u001b[0m\u001b[0m\n",
      "\u001b[0;32m~/anaconda3/lib/python3.6/site-packages/joblib/_parallel_backends.py\u001b[0m in \u001b[0;36mapply_async\u001b[0;34m(self, func, callback)\u001b[0m\n\u001b[1;32m    180\u001b[0m     \u001b[0;32mdef\u001b[0m \u001b[0mapply_async\u001b[0m\u001b[0;34m(\u001b[0m\u001b[0mself\u001b[0m\u001b[0;34m,\u001b[0m \u001b[0mfunc\u001b[0m\u001b[0;34m,\u001b[0m \u001b[0mcallback\u001b[0m\u001b[0;34m=\u001b[0m\u001b[0;32mNone\u001b[0m\u001b[0;34m)\u001b[0m\u001b[0;34m:\u001b[0m\u001b[0;34m\u001b[0m\u001b[0;34m\u001b[0m\u001b[0m\n\u001b[1;32m    181\u001b[0m         \u001b[0;34m\"\"\"Schedule a func to be run\"\"\"\u001b[0m\u001b[0;34m\u001b[0m\u001b[0;34m\u001b[0m\u001b[0m\n\u001b[0;32m--> 182\u001b[0;31m         \u001b[0mresult\u001b[0m \u001b[0;34m=\u001b[0m \u001b[0mImmediateResult\u001b[0m\u001b[0;34m(\u001b[0m\u001b[0mfunc\u001b[0m\u001b[0;34m)\u001b[0m\u001b[0;34m\u001b[0m\u001b[0;34m\u001b[0m\u001b[0m\n\u001b[0m\u001b[1;32m    183\u001b[0m         \u001b[0;32mif\u001b[0m \u001b[0mcallback\u001b[0m\u001b[0;34m:\u001b[0m\u001b[0;34m\u001b[0m\u001b[0;34m\u001b[0m\u001b[0m\n\u001b[1;32m    184\u001b[0m             \u001b[0mcallback\u001b[0m\u001b[0;34m(\u001b[0m\u001b[0mresult\u001b[0m\u001b[0;34m)\u001b[0m\u001b[0;34m\u001b[0m\u001b[0;34m\u001b[0m\u001b[0m\n",
      "\u001b[0;32m~/anaconda3/lib/python3.6/site-packages/joblib/_parallel_backends.py\u001b[0m in \u001b[0;36m__init__\u001b[0;34m(self, batch)\u001b[0m\n\u001b[1;32m    547\u001b[0m         \u001b[0;31m# Don't delay the application, to avoid keeping the input\u001b[0m\u001b[0;34m\u001b[0m\u001b[0;34m\u001b[0m\u001b[0;34m\u001b[0m\u001b[0m\n\u001b[1;32m    548\u001b[0m         \u001b[0;31m# arguments in memory\u001b[0m\u001b[0;34m\u001b[0m\u001b[0;34m\u001b[0m\u001b[0;34m\u001b[0m\u001b[0m\n\u001b[0;32m--> 549\u001b[0;31m         \u001b[0mself\u001b[0m\u001b[0;34m.\u001b[0m\u001b[0mresults\u001b[0m \u001b[0;34m=\u001b[0m \u001b[0mbatch\u001b[0m\u001b[0;34m(\u001b[0m\u001b[0;34m)\u001b[0m\u001b[0;34m\u001b[0m\u001b[0;34m\u001b[0m\u001b[0m\n\u001b[0m\u001b[1;32m    550\u001b[0m \u001b[0;34m\u001b[0m\u001b[0m\n\u001b[1;32m    551\u001b[0m     \u001b[0;32mdef\u001b[0m \u001b[0mget\u001b[0m\u001b[0;34m(\u001b[0m\u001b[0mself\u001b[0m\u001b[0;34m)\u001b[0m\u001b[0;34m:\u001b[0m\u001b[0;34m\u001b[0m\u001b[0;34m\u001b[0m\u001b[0m\n",
      "\u001b[0;32m~/anaconda3/lib/python3.6/site-packages/joblib/parallel.py\u001b[0m in \u001b[0;36m__call__\u001b[0;34m(self)\u001b[0m\n\u001b[1;32m    223\u001b[0m         \u001b[0;32mwith\u001b[0m \u001b[0mparallel_backend\u001b[0m\u001b[0;34m(\u001b[0m\u001b[0mself\u001b[0m\u001b[0;34m.\u001b[0m\u001b[0m_backend\u001b[0m\u001b[0;34m,\u001b[0m \u001b[0mn_jobs\u001b[0m\u001b[0;34m=\u001b[0m\u001b[0mself\u001b[0m\u001b[0;34m.\u001b[0m\u001b[0m_n_jobs\u001b[0m\u001b[0;34m)\u001b[0m\u001b[0;34m:\u001b[0m\u001b[0;34m\u001b[0m\u001b[0;34m\u001b[0m\u001b[0m\n\u001b[1;32m    224\u001b[0m             return [func(*args, **kwargs)\n\u001b[0;32m--> 225\u001b[0;31m                     for func, args, kwargs in self.items]\n\u001b[0m\u001b[1;32m    226\u001b[0m \u001b[0;34m\u001b[0m\u001b[0m\n\u001b[1;32m    227\u001b[0m     \u001b[0;32mdef\u001b[0m \u001b[0m__len__\u001b[0m\u001b[0;34m(\u001b[0m\u001b[0mself\u001b[0m\u001b[0;34m)\u001b[0m\u001b[0;34m:\u001b[0m\u001b[0;34m\u001b[0m\u001b[0;34m\u001b[0m\u001b[0m\n",
      "\u001b[0;32m~/anaconda3/lib/python3.6/site-packages/joblib/parallel.py\u001b[0m in \u001b[0;36m<listcomp>\u001b[0;34m(.0)\u001b[0m\n\u001b[1;32m    223\u001b[0m         \u001b[0;32mwith\u001b[0m \u001b[0mparallel_backend\u001b[0m\u001b[0;34m(\u001b[0m\u001b[0mself\u001b[0m\u001b[0;34m.\u001b[0m\u001b[0m_backend\u001b[0m\u001b[0;34m,\u001b[0m \u001b[0mn_jobs\u001b[0m\u001b[0;34m=\u001b[0m\u001b[0mself\u001b[0m\u001b[0;34m.\u001b[0m\u001b[0m_n_jobs\u001b[0m\u001b[0;34m)\u001b[0m\u001b[0;34m:\u001b[0m\u001b[0;34m\u001b[0m\u001b[0;34m\u001b[0m\u001b[0m\n\u001b[1;32m    224\u001b[0m             return [func(*args, **kwargs)\n\u001b[0;32m--> 225\u001b[0;31m                     for func, args, kwargs in self.items]\n\u001b[0m\u001b[1;32m    226\u001b[0m \u001b[0;34m\u001b[0m\u001b[0m\n\u001b[1;32m    227\u001b[0m     \u001b[0;32mdef\u001b[0m \u001b[0m__len__\u001b[0m\u001b[0;34m(\u001b[0m\u001b[0mself\u001b[0m\u001b[0;34m)\u001b[0m\u001b[0;34m:\u001b[0m\u001b[0;34m\u001b[0m\u001b[0;34m\u001b[0m\u001b[0m\n",
      "\u001b[0;32m~/anaconda3/lib/python3.6/site-packages/sklearn/neighbors/base.py\u001b[0m in \u001b[0;36m_tree_query_parallel_helper\u001b[0;34m(tree, data, n_neighbors, return_distance)\u001b[0m\n\u001b[1;32m    289\u001b[0m     \u001b[0munder\u001b[0m \u001b[0mPyPy\u001b[0m\u001b[0;34m.\u001b[0m\u001b[0;34m\u001b[0m\u001b[0;34m\u001b[0m\u001b[0m\n\u001b[1;32m    290\u001b[0m     \"\"\"\n\u001b[0;32m--> 291\u001b[0;31m     \u001b[0;32mreturn\u001b[0m \u001b[0mtree\u001b[0m\u001b[0;34m.\u001b[0m\u001b[0mquery\u001b[0m\u001b[0;34m(\u001b[0m\u001b[0mdata\u001b[0m\u001b[0;34m,\u001b[0m \u001b[0mn_neighbors\u001b[0m\u001b[0;34m,\u001b[0m \u001b[0mreturn_distance\u001b[0m\u001b[0;34m)\u001b[0m\u001b[0;34m\u001b[0m\u001b[0;34m\u001b[0m\u001b[0m\n\u001b[0m\u001b[1;32m    292\u001b[0m \u001b[0;34m\u001b[0m\u001b[0m\n\u001b[1;32m    293\u001b[0m \u001b[0;34m\u001b[0m\u001b[0m\n",
      "\u001b[0;31mKeyboardInterrupt\u001b[0m: "
     ]
    }
   ],
   "source": [
    "clf = KNC(n_neighbors=11, weights=\"distance\", p=1)\n",
    "greedy_wrapper(clf, X_train, X_test, y_train, y_test)"
   ]
  },
  {
   "cell_type": "code",
   "execution_count": null,
   "metadata": {},
   "outputs": [
    {
     "name": "stdout",
     "output_type": "stream",
     "text": [
      "[302]\n",
      "0.47845266372582285\n",
      "\n",
      "[302, 558]\n",
      "0.7108924329826942\n",
      "\n",
      "[302, 558, 69]\n",
      "0.7807940278249067\n",
      "\n",
      "[302, 558, 69, 559]\n",
      "0.820834747200543\n",
      "\n",
      "[302, 558, 69, 559, 456]\n",
      "0.8466236851034951\n",
      "\n",
      "[302, 558, 69, 559, 456, 434]\n",
      "0.8696979979640312\n",
      "\n",
      "[302, 558, 69, 559, 456, 434, 42]\n",
      "0.8812351543942993\n",
      "\n",
      "[302, 558, 69, 559, 456, 434, 42, 175]\n",
      "0.8907363420427553\n",
      "\n",
      "[302, 558, 69, 559, 456, 434, 42, 175, 201]\n",
      "0.9032914828639295\n",
      "\n",
      "[302, 558, 69, 559, 456, 434, 42, 175, 201, 451]\n",
      "0.9110960298608755\n",
      "\n",
      "[302, 558, 69, 559, 456, 434, 42, 175, 201, 451, 74]\n",
      "0.9182219205972175\n",
      "\n",
      "[302, 558, 69, 559, 456, 434, 42, 175, 201, 451, 74, 359]\n",
      "0.9229725144214456\n",
      "\n",
      "[302, 558, 69, 559, 456, 434, 42, 175, 201, 451, 74, 359, 445]\n",
      "0.9253478113335596\n",
      "\n",
      "[302, 558, 69, 559, 456, 434, 42, 175, 201, 451, 74, 359, 445, 184]\n",
      "0.9321343739395996\n",
      "\n",
      "[302, 558, 69, 559, 456, 434, 42, 175, 201, 451, 74, 359, 445, 184, 11]\n",
      "0.9372242958941296\n",
      "\n",
      "[302, 558, 69, 559, 456, 434, 42, 175, 201, 451, 74, 359, 445, 184, 11, 228]\n",
      "0.9389209365456397\n",
      "\n",
      "[302, 558, 69, 559, 456, 434, 42, 175, 201, 451, 74, 359, 445, 184, 11, 228, 120]\n",
      "0.9402782490668476\n",
      "\n",
      "[302, 558, 69, 559, 456, 434, 42, 175, 201, 451, 74, 359, 445, 184, 11, 228, 120, 150]\n",
      "0.9433322022395657\n",
      "\n",
      "[302, 558, 69, 559, 456, 434, 42, 175, 201, 451, 74, 359, 445, 184, 11, 228, 120, 150, 461]\n",
      "0.9460468272819816\n",
      "\n",
      "[302, 558, 69, 559, 456, 434, 42, 175, 201, 451, 74, 359, 445, 184, 11, 228, 120, 150, 461, 95]\n",
      "0.9470648116728877\n",
      "\n",
      "[302, 558, 69, 559, 456, 434, 42, 175, 201, 451, 74, 359, 445, 184, 11, 228, 120, 150, 461, 95, 383]\n",
      "0.9477434679334917\n",
      "\n",
      "[302, 558, 69, 559, 456, 434, 42, 175, 201, 451, 74, 359, 445, 184, 11, 228, 120, 150, 461, 95, 383, 40]\n",
      "0.9484221241940957\n",
      "\n",
      "[302, 558, 69, 559, 456, 434, 42, 175, 201, 451, 74, 359, 445, 184, 11, 228, 120, 150, 461, 95, 383, 40, 388]\n",
      "0.9491007804546997\n",
      "\n",
      "[302, 558, 69, 559, 456, 434, 42, 175, 201, 451, 74, 359, 445, 184, 11, 228, 120, 150, 461, 95, 383, 40, 388, 43]\n",
      "0.9491007804546997\n",
      "\n",
      "[302, 558, 69, 559, 456, 434, 42, 175, 201, 451, 74, 359, 445, 184, 11, 228, 120, 150, 461, 95, 383, 40, 388, 43, 59]\n",
      "0.9494401085850017\n",
      "\n",
      "[302, 558, 69, 559, 456, 434, 42, 175, 201, 451, 74, 359, 445, 184, 11, 228, 120, 150, 461, 95, 383, 40, 388, 43, 59, 2]\n",
      "0.9497794367153037\n",
      "\n",
      "[302, 558, 69, 559, 456, 434, 42, 175, 201, 451, 74, 359, 445, 184, 11, 228, 120, 150, 461, 95, 383, 40, 388, 43, 59, 2, 49]\n",
      "0.9497794367153037\n",
      "\n",
      "[302, 558, 69, 559, 456, 434, 42, 175, 201, 451, 74, 359, 445, 184, 11, 228, 120, 150, 461, 95, 383, 40, 388, 43, 59, 2, 49, 465]\n",
      "0.9497794367153037\n",
      "\n",
      "[302, 558, 69, 559, 456, 434, 42, 175, 201, 451, 74, 359, 445, 184, 11, 228, 120, 150, 461, 95, 383, 40, 388, 43, 59, 2, 49, 465, 508]\n",
      "0.9501187648456056\n",
      "\n",
      "[302, 558, 69, 559, 456, 434, 42, 175, 201, 451, 74, 359, 445, 184, 11, 228, 120, 150, 461, 95, 383, 40, 388, 43, 59, 2, 49, 465, 508, 396]\n",
      "0.9501187648456056\n",
      "\n"
     ]
    }
   ],
   "source": [
    "clf = KNC(n_neighbors=11, weights=\"distance\", p=2)\n",
    "greedy_wrapper(clf, X_train, X_test, y_train, y_test)"
   ]
  },
  {
   "cell_type": "code",
   "execution_count": 611,
   "metadata": {},
   "outputs": [
    {
     "data": {
      "text/plain": [
       "(7352, 1)"
      ]
     },
     "execution_count": 611,
     "metadata": {},
     "output_type": "execute_result"
    }
   ],
   "source": [
    "X_train[:, [9]].shape"
   ]
  },
  {
   "cell_type": "code",
   "execution_count": 610,
   "metadata": {},
   "outputs": [
    {
     "data": {
      "text/plain": [
       "-0.93472378"
      ]
     },
     "execution_count": 610,
     "metadata": {},
     "output_type": "execute_result"
    }
   ],
   "source": [
    "X_train[:, 9][0]"
   ]
  },
  {
   "cell_type": "code",
   "execution_count": null,
   "metadata": {},
   "outputs": [],
   "source": []
  }
 ],
 "metadata": {
  "kernelspec": {
   "display_name": "Python 3",
   "language": "python",
   "name": "python3"
  },
  "language_info": {
   "codemirror_mode": {
    "name": "ipython",
    "version": 3
   },
   "file_extension": ".py",
   "mimetype": "text/x-python",
   "name": "python",
   "nbconvert_exporter": "python",
   "pygments_lexer": "ipython3",
   "version": "3.6.8"
  }
 },
 "nbformat": 4,
 "nbformat_minor": 2
}
